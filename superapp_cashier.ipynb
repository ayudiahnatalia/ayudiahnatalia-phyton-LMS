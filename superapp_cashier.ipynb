{
  "nbformat": 4,
  "nbformat_minor": 0,
  "metadata": {
    "colab": {
      "provenance": [],
      "authorship_tag": "ABX9TyNQOIe0ZPSNPGqBpI05rr7u",
      "include_colab_link": true
    },
    "kernelspec": {
      "name": "python3",
      "display_name": "Python 3"
    },
    "language_info": {
      "name": "python"
    }
  },
  "cells": [
    {
      "cell_type": "markdown",
      "metadata": {
        "id": "view-in-github",
        "colab_type": "text"
      },
      "source": [
        "<a href=\"https://colab.research.google.com/github/ayudiahnatalia/phyton-supercashier/blob/main/superapp_cashier.ipynb\" target=\"_parent\"><img src=\"https://colab.research.google.com/assets/colab-badge.svg\" alt=\"Open In Colab\"/></a>"
      ]
    },
    {
      "cell_type": "code",
      "execution_count": null,
      "metadata": {
        "colab": {
          "base_uri": "https://localhost:8080/"
        },
        "id": "-LvtMfMnGoSw",
        "outputId": "312b51c6-076b-40e7-c623-64d4d7af855b"
      },
      "outputs": [
        {
          "output_type": "stream",
          "name": "stdout",
          "text": [
            "The order is right\n",
            "No\tName\t\tQuantity\tPrice\tTotal\n",
            "1\tMobil\t\t2\t\t100000\t200000\n",
            "2\tTempe\t\t3\t\t3000\t9000\n",
            "3\tMie\t\t1\t\t5000\t5000\n",
            "Total price: 214000\n",
            "Discount: 10700.0\n",
            "Final price: 203300.0\n"
          ]
        }
      ],
      "source": [
        "class Transaction:\n",
        "    def __init__(self):\n",
        "        self.transaction_list = []\n",
        "    \n",
        "    def add_item(self, item):\n",
        "        try:\n",
        "            name, quantity, price = item\n",
        "            item = [name, quantity, price, quantity * price]\n",
        "            self.transaction_list.append(item)\n",
        "        except:\n",
        "            print(\"Error: Invalid item format\")\n",
        "    \n",
        "    def update_item_name(self, name, update_name):\n",
        "        for item in self.transaction_list:\n",
        "            if item[0] == name:\n",
        "                item[0] = update_name\n",
        "    \n",
        "    def update_item_qty(self, name, update_qty):\n",
        "        for item in self.transaction_list:\n",
        "            if item[0] == name:\n",
        "                item[1] = update_qty\n",
        "                item[3] = item[1] * item[2]\n",
        "    \n",
        "    def update_item_price(self, name, update_price):\n",
        "        for item in self.transaction_list:\n",
        "            if item[0] == name:\n",
        "                item[2] = update_price\n",
        "                item[3] = item[1] * item[2]\n",
        "    \n",
        "    def delete_item(self, name):\n",
        "        for i in range(len(self.transaction_list)):\n",
        "            if self.transaction_list[i][0] == name:\n",
        "                del self.transaction_list[i]\n",
        "                break\n",
        "    \n",
        "    def reset_transaction(self):\n",
        "        self.transaction_list = []\n",
        "    \n",
        "    def check_order(self):\n",
        "        for item in self.transaction_list:\n",
        "            if item[0] == \"\" or item[1] <= 0 or item[2] <= 0:\n",
        "                print(\"There is an input data error\")\n",
        "                return\n",
        "        print(\"The order is right\")\n",
        "    \n",
        "    def display_transaction(self):\n",
        "        print(\"No\\tName\\t\\tQuantity\\tPrice\\tTotal\")\n",
        "        for i, item in enumerate(self.transaction_list, 1):\n",
        "            print(\"{}\\t{}\\t\\t{}\\t\\t{}\\t{}\".format(i, item[0], item[1], item[2], item[3]))\n",
        "    \n",
        "    def total_price(self):\n",
        "        total_price = sum([item[3] for item in self.transaction_list])\n",
        "        print(\"Total price:\", total_price)\n",
        "        if total_price >= 200000:\n",
        "            discount = 0.05\n",
        "        elif total_price >= 300000:\n",
        "            discount = 0.08\n",
        "        elif total_price >= 500000:\n",
        "            discount = 0.1\n",
        "        else:\n",
        "            discount = 0\n",
        "        print(\"Discount:\", discount * total_price)\n",
        "        print(\"Final price:\", total_price * (1 - discount))\n",
        "\n",
        "trnsct_123 = Transaction()\n",
        "trnsct_123.add_item([\"Mobil\", 2, 100000])\n",
        "trnsct_123.add_item([\"Tempe\", 3, 3000])\n",
        "trnsct_123.add_item([\"Mie\", 1, 5000])\n",
        "trnsct_123.check_order()\n",
        "trnsct_123.display_transaction()\n",
        "trnsct_123.total_price()\n"
      ]
    }
  ]
}